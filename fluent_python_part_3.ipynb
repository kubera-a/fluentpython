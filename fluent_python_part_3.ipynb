{
 "cells": [
  {
   "cell_type": "markdown",
   "metadata": {},
   "source": [
    "# First-Class Functions\n",
    "\n",
    "## Table of Content"
   ]
  },
  {
   "cell_type": "markdown",
   "metadata": {},
   "source": [
    "### Introduction\n",
    "\n",
    "First-class objects\n",
    "\n",
    "* Created at runtime\n",
    "* Assigned to a variable or element in a data structure\n",
    "* Passed as an argument to a function\n",
    "* Returned as the result of a function\n",
    "\n",
    "Treating a Functino like an object"
   ]
  },
  {
   "cell_type": "code",
   "execution_count": 5,
   "metadata": {},
   "outputs": [],
   "source": [
    "# Example 5.1\n",
    "# here we return the function, therefore treating it as a first-class object\n",
    "\n",
    "def factorial(n):\n",
    "    \"Returns n!\"\n",
    "    return 1 if n < 2 else n * factorial(n - 1)"
   ]
  },
  {
   "cell_type": "code",
   "execution_count": 6,
   "metadata": {},
   "outputs": [
    {
     "data": {
      "text/plain": [
       "'Returns n!'"
      ]
     },
     "execution_count": 6,
     "metadata": {},
     "output_type": "execute_result"
    }
   ],
   "source": [
    "factorial.__doc__"
   ]
  },
  {
   "cell_type": "code",
   "execution_count": 7,
   "metadata": {},
   "outputs": [],
   "source": [
    "fact = factorial # assigning function to a variable"
   ]
  },
  {
   "cell_type": "code",
   "execution_count": 8,
   "metadata": {},
   "outputs": [
    {
     "data": {
      "text/plain": [
       "<function __main__.factorial(n)>"
      ]
     },
     "execution_count": 8,
     "metadata": {},
     "output_type": "execute_result"
    }
   ],
   "source": [
    "fact"
   ]
  },
  {
   "cell_type": "code",
   "execution_count": 9,
   "metadata": {},
   "outputs": [
    {
     "data": {
      "text/plain": [
       "120"
      ]
     },
     "execution_count": 9,
     "metadata": {},
     "output_type": "execute_result"
    }
   ],
   "source": [
    "fact(5)"
   ]
  },
  {
   "cell_type": "code",
   "execution_count": 10,
   "metadata": {},
   "outputs": [
    {
     "data": {
      "text/plain": [
       "<map at 0x105c83700>"
      ]
     },
     "execution_count": 10,
     "metadata": {},
     "output_type": "execute_result"
    }
   ],
   "source": [
    "map(factorial, range(11)) # lazy evaluation?"
   ]
  },
  {
   "cell_type": "code",
   "execution_count": 11,
   "metadata": {},
   "outputs": [
    {
     "data": {
      "text/plain": [
       "[1, 1, 2, 6, 24, 120, 720, 5040, 40320, 362880, 3628800]"
      ]
     },
     "execution_count": 11,
     "metadata": {},
     "output_type": "execute_result"
    }
   ],
   "source": [
    "list(map(fact, range(11)))"
   ]
  },
  {
   "cell_type": "markdown",
   "metadata": {},
   "source": [
    "## Higher-order functions\n",
    "\n",
    "Functions that take a function as argument or return a function as the result\n",
    "\n",
    "map is an example, factorial as well\n",
    "\n",
    "## Modern replacement for map, filter and reduce\n",
    "\n",
    "map and filter has been somewhat replaced by list comprehension and generator expressions. Listcomp and genexp does the job of map and filter combined but is more readable."
   ]
  },
  {
   "cell_type": "code",
   "execution_count": 12,
   "metadata": {},
   "outputs": [
    {
     "data": {
      "text/plain": [
       "4950"
      ]
     },
     "execution_count": 12,
     "metadata": {},
     "output_type": "execute_result"
    }
   ],
   "source": [
    "from functools import reduce\n",
    "from operator import add\n",
    "\n",
    "reduce(add, range(100))"
   ]
  },
  {
   "cell_type": "markdown",
   "metadata": {},
   "source": [
    "## Anonymous functions\n",
    "\n",
    "To use a higher order function, it often makes sense to use a small, one-off function, this is frequently the use case for lambda functions.\n",
    "\n",
    "Lambda functions are often intentionally unwiedly for anything more than a simple function. Thus it is not useful outside the input to a higher order function.\n",
    "\n",
    "To refactor any piece of code that is hard to understand because of a lambda, follow Lundh's lambda refactoring recipe\n",
    "\n",
    "1. Write a comment explaining what the lambda does\n",
    "2. Study the comment for clues on what the lambda function is doing and think of a name that captures the essence of the comment\n",
    "3. Convert the lambda to a def statement with the name you picked\n",
    "4. Remove the comment"
   ]
  },
  {
   "cell_type": "markdown",
   "metadata": {},
   "source": [
    "## The seven flavors of callable objects\n",
    "\n",
    "A call operator () and you can check whether an object is callable by using callable()\n",
    "\n",
    "1. User-defined functions\n",
    "def or lambda expressions\n",
    "2. Built-in functions\n",
    "function implement in C of CPython, e.g len or time.strftime\n",
    "3. Built-in methods\n",
    "methods implemented in C, like dict.get\n",
    "4. Methods\n",
    "Functions defined in the body of a class\n",
    "5. Classes\n",
    "When invoked, a class runs its `__new__` method to create an instance, then `__init__` to initialize it, and finally the instance is returned to the caller\n",
    "6. Class instances\n",
    "If a class defines a `__call__` method, then its instances may be invoked as functions\n",
    "7. Generator functions\n",
    "Functions or methods that use the yield keyword. When called, return a generator object"
   ]
  },
  {
   "cell_type": "code",
   "execution_count": 37,
   "metadata": {},
   "outputs": [],
   "source": [
    "## Turning in instance into a callable simply requires __call__\n",
    "# You'd want to use this when some internal state must be kept across invocations, like the remaining items in a BingoPick\n",
    "\n",
    "class BingoPick:\n",
    "    def __init__(self, items):\n",
    "        self._items = items\n",
    "        from random import shuffle\n",
    "        shuffle(self._items)\n",
    "\n",
    "    def pick(self):\n",
    "        try:\n",
    "            return self._items.pop()\n",
    "        except IndexError:\n",
    "            raise LookupError('pick from empty BingoPick')\n",
    "        \n",
    "    def __call__(self):\n",
    "        return self.pick()\n",
    "    \n",
    "# Decorators are often used to keep the internal state as well\n",
    "# They are functions but it is sometimes convenient to remember between calls of the decorator\n",
    "# e.g memoization (caching the results of expensive function calls)\n",
    "\n",
    "def memoize(fn):\n",
    "    cache = {}\n",
    "    def inner(*args):\n",
    "        if args not in cache:\n",
    "            cache[args] = fn(*args)\n",
    "        return cache[args]\n",
    "    return inner\n",
    "\n",
    "@memoize\n",
    "def fib(n):\n",
    "    return n if n < 2 else fib(n - 1) + fib(n - 2)\n",
    "\n",
    "huh = fib(10)"
   ]
  },
  {
   "cell_type": "code",
   "execution_count": 38,
   "metadata": {},
   "outputs": [
    {
     "data": {
      "text/plain": [
       "{(1,): 1,\n",
       " (0,): 0,\n",
       " (2,): 1,\n",
       " (3,): 2,\n",
       " (4,): 3,\n",
       " (5,): 5,\n",
       " (6,): 8,\n",
       " (7,): 13,\n",
       " (8,): 21,\n",
       " (9,): 34,\n",
       " (10,): 55}"
      ]
     },
     "execution_count": 38,
     "metadata": {},
     "output_type": "execute_result"
    }
   ],
   "source": [
    "# view the cache\n",
    "fib.__closure__[0].cell_contents"
   ]
  },
  {
   "cell_type": "code",
   "execution_count": null,
   "metadata": {},
   "outputs": [],
   "source": [
    "fib = memoize(fib)\n",
    "memoize(fib)\n",
    "cache = {}\n",
    "cache[args] = fn(*args) # stores the results in cache[args] = fn(*args)\n",
    "# computes and returns the result because inner returns cache[args]\n",
    "# Takes in a function"
   ]
  },
  {
   "cell_type": "code",
   "execution_count": 40,
   "metadata": {},
   "outputs": [
    {
     "name": "stdout",
     "output_type": "stream",
     "text": [
      "(1, 2, 3)\n"
     ]
    }
   ],
   "source": [
    "def f(*args): # does * args here create tuple?\n",
    "    print(args) # creates tuple of arguments\n",
    "\n",
    "f(1, 2, 3)"
   ]
  },
  {
   "cell_type": "code",
   "execution_count": 44,
   "metadata": {},
   "outputs": [
    {
     "ename": "TypeError",
     "evalue": "fib() takes 1 positional argument but 3 were given",
     "output_type": "error",
     "traceback": [
      "\u001b[0;31m---------------------------------------------------------------------------\u001b[0m",
      "\u001b[0;31mTypeError\u001b[0m                                 Traceback (most recent call last)",
      "Cell \u001b[0;32mIn[44], line 13\u001b[0m\n\u001b[1;32m      9\u001b[0m \u001b[38;5;129m@memoize\u001b[39m\n\u001b[1;32m     10\u001b[0m \u001b[38;5;28;01mdef\u001b[39;00m \u001b[38;5;21mfib\u001b[39m(n):\n\u001b[1;32m     11\u001b[0m     \u001b[38;5;28;01mreturn\u001b[39;00m n \u001b[38;5;28;01mif\u001b[39;00m n \u001b[38;5;241m<\u001b[39m \u001b[38;5;241m2\u001b[39m \u001b[38;5;28;01melse\u001b[39;00m fib(n \u001b[38;5;241m-\u001b[39m \u001b[38;5;241m1\u001b[39m) \u001b[38;5;241m+\u001b[39m fib(n \u001b[38;5;241m-\u001b[39m \u001b[38;5;241m2\u001b[39m)\n\u001b[0;32m---> 13\u001b[0m huh \u001b[38;5;241m=\u001b[39m fib(\u001b[38;5;241m10\u001b[39m, \u001b[38;5;241m5\u001b[39m, \u001b[38;5;241m3\u001b[39m)\n",
      "Cell \u001b[0;32mIn[44], line 5\u001b[0m, in \u001b[0;36mmemoize.<locals>.inner\u001b[0;34m(*args)\u001b[0m\n\u001b[1;32m      3\u001b[0m \u001b[38;5;28;01mdef\u001b[39;00m \u001b[38;5;21minner\u001b[39m(\u001b[38;5;241m*\u001b[39margs):\n\u001b[1;32m      4\u001b[0m     \u001b[38;5;28;01mif\u001b[39;00m args \u001b[38;5;129;01mnot\u001b[39;00m \u001b[38;5;129;01min\u001b[39;00m cache:\n\u001b[0;32m----> 5\u001b[0m         cache[args] \u001b[38;5;241m=\u001b[39m fn(\u001b[38;5;241m*\u001b[39margs)\n\u001b[1;32m      6\u001b[0m     \u001b[38;5;28;01mreturn\u001b[39;00m cache[args]\n",
      "\u001b[0;31mTypeError\u001b[0m: fib() takes 1 positional argument but 3 were given"
     ]
    }
   ],
   "source": [
    "def memoize(fn):\n",
    "    cache = {}\n",
    "    def inner(*args):\n",
    "        if args not in cache:\n",
    "            cache[args] = fn(*args)\n",
    "        return cache[args]\n",
    "    return inner\n",
    "\n",
    "@memoize\n",
    "def fib(n):\n",
    "    return n if n < 2 else fib(n - 1) + fib(n - 2)\n",
    "\n",
    "huh = fib(10, 5, 3)"
   ]
  },
  {
   "cell_type": "code",
   "execution_count": 45,
   "metadata": {},
   "outputs": [],
   "source": [
    "def test(huh):\n",
    "    return huh\n",
    "test.random = 5"
   ]
  },
  {
   "cell_type": "code",
   "execution_count": 47,
   "metadata": {},
   "outputs": [
    {
     "data": {
      "text/plain": [
       "5"
      ]
     },
     "execution_count": 47,
     "metadata": {},
     "output_type": "execute_result"
    }
   ],
   "source": [
    "test.random"
   ]
  },
  {
   "cell_type": "code",
   "execution_count": 50,
   "metadata": {},
   "outputs": [],
   "source": [
    "def example(*args):\n",
    "    print(*args)\n",
    "    print(args)"
   ]
  },
  {
   "cell_type": "markdown",
   "metadata": {},
   "source": [
    "*args: Captures arguments as a tuple in args\n",
    "\n",
    "**kwargs: Captures keyword arguments as a dictionary in kwargs\n",
    "\n",
    "Entries into kwargs must be valid identifiers. Which means they must start with a letter or underscore and contain only letters, digits, and underscores."
   ]
  },
  {
   "cell_type": "code",
   "execution_count": 77,
   "metadata": {},
   "outputs": [],
   "source": [
    "def add(a, b):\n",
    "    return a + b"
   ]
  },
  {
   "cell_type": "code",
   "execution_count": 79,
   "metadata": {},
   "outputs": [
    {
     "name": "stdout",
     "output_type": "stream",
     "text": [
      "3\n"
     ]
    }
   ],
   "source": [
    "# method 1\n",
    "\n",
    "values = {'a': 1, 'b': 2}\n",
    "s = add(**values) # this unpacks it for named arguments\n",
    "print(s)"
   ]
  },
  {
   "cell_type": "code",
   "execution_count": 81,
   "metadata": {},
   "outputs": [
    {
     "name": "stdout",
     "output_type": "stream",
     "text": [
      "6\n"
     ]
    }
   ],
   "source": [
    "# method 2 double unpacking\n",
    "# * unpacks a sequence or collection into positional arguments\n",
    "values_1 = (1, 2)\n",
    "values_2 = {'c': 1, 'd': 2}\n",
    "\n",
    "def add(a, b, c, d):\n",
    "    return a + b + c + d\n",
    "\n",
    "s = add(*values_1, **values_2)\n",
    "print(s)"
   ]
  },
  {
   "cell_type": "markdown",
   "metadata": {},
   "source": [
    "## Using it in the function signature is a different matter\n",
    "\n",
    "e.g f(*args, **kwargs)"
   ]
  },
  {
   "cell_type": "code",
   "execution_count": 83,
   "metadata": {},
   "outputs": [
    {
     "name": "stdout",
     "output_type": "stream",
     "text": [
      "(1, 2, 3, 4)\n",
      "26\n"
     ]
    }
   ],
   "source": [
    "def add(*values):\n",
    "    s = 0\n",
    "    print(values)\n",
    "    for v in values:\n",
    "        s += s + v\n",
    "    return s\n",
    "\n",
    "values = [1, 2, 3, 4]\n",
    "s = add(*values)\n",
    "print(s)"
   ]
  },
  {
   "cell_type": "code",
   "execution_count": 88,
   "metadata": {},
   "outputs": [
    {
     "name": "stdout",
     "output_type": "stream",
     "text": [
      "(1, 2, 3, 4)\n",
      "{'a': 1, 'b': 2, 'c': 3}\n",
      "10\n",
      "v is 1, s is 10\n",
      "v is 2, s is 11\n",
      "v is 3, s is 13\n",
      "16\n"
     ]
    }
   ],
   "source": [
    "# Usage 4\n",
    "\n",
    "def add(*values, **values_d):\n",
    "    s = 0\n",
    "    print(values)\n",
    "    print(values_d)\n",
    "    for v in values:\n",
    "        s += v\n",
    "    print(s)\n",
    "    for v in values_d.values():\n",
    "        print(f'v is {v}, s is {s}')\n",
    "        s += v\n",
    "    return s\n",
    "\n",
    "values = [1, 2, 3, 4]\n",
    "vd = {'a': 1, 'b': 2, 'c': 3}\n",
    "s = add(*values, **vd)\n",
    "print(s)"
   ]
  }
 ],
 "metadata": {
  "kernelspec": {
   "display_name": "asyncplayground",
   "language": "python",
   "name": "python3"
  },
  "language_info": {
   "codemirror_mode": {
    "name": "ipython",
    "version": 3
   },
   "file_extension": ".py",
   "mimetype": "text/x-python",
   "name": "python",
   "nbconvert_exporter": "python",
   "pygments_lexer": "ipython3",
   "version": "3.12.4"
  }
 },
 "nbformat": 4,
 "nbformat_minor": 2
}
