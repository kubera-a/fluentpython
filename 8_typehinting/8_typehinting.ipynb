{
 "cells": [
  {
   "cell_type": "markdown",
   "metadata": {},
   "source": [
    "# 8. Typehinting\n",
    "\n",
    "## T.O.C:\n",
    "\n",
    "1. [General Examples](#general-examples)\n",
    "2. [next](#next)\n",
    "\n"
   ]
  },
  {
   "cell_type": "markdown",
   "metadata": {},
   "source": [
    "This notebook aims to go over the typehinting listed in the book. Attempts at including both positive and negative examples will be made if possible, if not, only positive examples will be kept.\n",
    "\n",
    "General comments and concepts will be left here\n",
    "\n",
    "## Concepts\n",
    "\n",
    "| Concept | Description |\n",
    "|----------|----------|\n",
    "| Gradual Typing | Is optional, does not catch type errors at runtime and does not enhance perforamnce |\n",
    "| Duck Typing | \"If it quacks like a duck, it is a duck\" Example included |\n",
    "| Nominal Typing | Type compatibility and equivalence is based on explicit declaration rather than structure/inheritance. |\n",
    "| Consistent-with | Basically X is consistent with Y if X has all the methods/attributes of Y |\n",
    "| Subtype-of | As it is, quite literally Cat is a subtype of Animal |"
   ]
  },
  {
   "cell_type": "markdown",
   "metadata": {},
   "source": [
    "## General Examples"
   ]
  },
  {
   "cell_type": "markdown",
   "metadata": {},
   "source": [
    "### Duck Typing & Nominal Typing\n",
    "\n",
    "Since Duck and Clown here both support the `quack` method, they are considered the same type. Duck typing is only enforced at runtime and results in more flexibility, but usually at the cost of more errors.\n",
    "\n",
    "From Wikipedia: In computer programming, duck typing is an application of the duck test—\"If it walks like a duck and it quacks like a duck, then it must be a duck\"—to determine whether an object can be used for a particular purpose. With nominative typing, an object is of a given type if it is declared as such (or if a type's association with the object is inferred through mechanisms such as object inheritance). With duck typing, an object is of a given type if it has all methods and properties required by that type."
   ]
  },
  {
   "cell_type": "code",
   "execution_count": 1,
   "metadata": {},
   "outputs": [],
   "source": [
    "class Bird:\n",
    "    pass\n",
    "\n",
    "class Duck(Bird):\n",
    "    def quack(self):\n",
    "        print('Quack!')\n",
    "\n",
    "class Clown:\n",
    "    def quack(self):\n",
    "        print('Quack!')\n",
    "\n",
    "def make_the_duck_quack(duck: Duck):\n",
    "    duck.quack()\n",
    "\n",
    "def make_the_bird_quack(bird: Bird):\n",
    "    bird.quack()"
   ]
  },
  {
   "cell_type": "markdown",
   "metadata": {},
   "source": [
    "The above will not pass Mypy as Bird has no attribute \"quack\". In the above, the Clown class is considered a duck to `make_the_duck_quack` because it has the `quack` method."
   ]
  },
  {
   "cell_type": "markdown",
   "metadata": {},
   "source": [
    "In this next portion, we create a daffy duck, while it is a duck, it will not throw an error if you pass it to `make_the_duck_quack` but it will throw an error to `make_the_bird_quack` if you run it in mypy because it is not a bird."
   ]
  },
  {
   "cell_type": "code",
   "execution_count": null,
   "metadata": {},
   "outputs": [],
   "source": [
    "daffy = Duck()\n",
    "make_the_duck_quack(daffy)\n",
    "make_the_bird_quack(daffy)"
   ]
  },
  {
   "cell_type": "markdown",
   "metadata": {},
   "source": [
    "If you run this in mypy, you will get the following error:\n",
    "\n",
    "```\n",
    "error: Argument 1 to \"make_the_bird_quack\" has incompatible type \"DaffyDuck\"; expected \"Bird\"\n",
    "```"
   ]
  },
  {
   "cell_type": "markdown",
   "metadata": {},
   "source": [
    "The next example is demonstrating why you would not like Duck Typing. While duck typing allows the function to accept anything and as long as it quacks it works in runtime, it will not catch the error at compile time. This is why we use typehinting."
   ]
  },
  {
   "cell_type": "code",
   "execution_count": 2,
   "metadata": {},
   "outputs": [
    {
     "ename": "AttributeError",
     "evalue": "'Bird' object has no attribute 'quack'",
     "output_type": "error",
     "traceback": [
      "\u001b[0;31m---------------------------------------------------------------------------\u001b[0m",
      "\u001b[0;31mAttributeError\u001b[0m                            Traceback (most recent call last)",
      "Cell \u001b[0;32mIn[2], line 3\u001b[0m\n\u001b[1;32m      1\u001b[0m birdo \u001b[38;5;241m=\u001b[39m Bird()\n\u001b[0;32m----> 3\u001b[0m make_the_bird_quack(birdo)\n",
      "Cell \u001b[0;32mIn[1], line 16\u001b[0m, in \u001b[0;36mmake_the_bird_quack\u001b[0;34m(bird)\u001b[0m\n\u001b[1;32m     15\u001b[0m \u001b[38;5;28;01mdef\u001b[39;00m \u001b[38;5;21mmake_the_bird_quack\u001b[39m(bird: Bird):\n\u001b[0;32m---> 16\u001b[0m     bird\u001b[38;5;241m.\u001b[39mquack()\n",
      "\u001b[0;31mAttributeError\u001b[0m: 'Bird' object has no attribute 'quack'"
     ]
    }
   ],
   "source": [
    "birdo = Bird()\n",
    "\n",
    "make_the_bird_quack(birdo)"
   ]
  },
  {
   "cell_type": "markdown",
   "metadata": {},
   "source": [
    "## Typehinting Any\n",
    "\n",
    "If there is no type hint, it's automatically assumed it is any. In addition, you should be using `typing.Any` over `object`\n",
    "\n",
    "Consider the following two functions.\n",
    "\n",
    "`double_any` would pass mypy because Any is assumed to support every possible operation, however `double_object` would not pass mypy because `__mul__` is not defined for object."
   ]
  },
  {
   "cell_type": "code",
   "execution_count": 3,
   "metadata": {},
   "outputs": [],
   "source": [
    "from typing import Any\n",
    "\n",
    "def double_any(x: Any) -> Any:\n",
    "    return 2 * x\n",
    "\n",
    "def double_object(x: object) -> object:\n",
    "    return 2 * x"
   ]
  },
  {
   "cell_type": "markdown",
   "metadata": {},
   "source": [
    "# Subtype-of vs Consistent-with"
   ]
  },
  {
   "cell_type": "markdown",
   "metadata": {},
   "source": [
    "In the following example, we have `Dog`, `Cat`, `Car` which can speak and therefore in the make_speak method, they are consistent-with each other.\n",
    "\n",
    "However in the `make_animal_speak` function, it expects an `Animal`, therefore since `Dog` and `Cat` are subtypes of `Animal` and implement the same interface as `Animal`, they can be used in the function."
   ]
  },
  {
   "cell_type": "code",
   "execution_count": null,
   "metadata": {},
   "outputs": [],
   "source": [
    "class Animal:\n",
    "    def speak(self):\n",
    "        pass\n",
    "\n",
    "class Dog(Animal):\n",
    "    def speak(self):\n",
    "        return \"Bark\"\n",
    "\n",
    "class Cat(Animal):\n",
    "    def speak(self):\n",
    "        return \"Meow\"\n",
    "\n",
    "class Car:\n",
    "    def speak(self):\n",
    "        return \"Vroom\"\n",
    "\n",
    "def make_speak(obj):\n",
    "    if hasattr(obj, 'speak') and callable(obj.speak):\n",
    "        return obj.speak()\n",
    "    else:\n",
    "        raise TypeError(\"Object does not have a callable 'speak' method\")\n",
    "    \n",
    "def make_animal_speak(animal: Animal):\n",
    "    return animal.speak()"
   ]
  },
  {
   "cell_type": "markdown",
   "metadata": {},
   "source": [
    "# How do you typehint None as a Default?\n",
    "\n",
    "For some functions, if you are expecting a string you can use '', but in some other cases you might want to use `None` instead."
   ]
  },
  {
   "cell_type": "markdown",
   "metadata": {},
   "source": []
  },
  {
   "cell_type": "markdown",
   "metadata": {},
   "source": [
    "##"
   ]
  }
 ],
 "metadata": {
  "kernelspec": {
   "display_name": "fluent_python",
   "language": "python",
   "name": "python3"
  },
  "language_info": {
   "codemirror_mode": {
    "name": "ipython",
    "version": 3
   },
   "file_extension": ".py",
   "mimetype": "text/x-python",
   "name": "python",
   "nbconvert_exporter": "python",
   "pygments_lexer": "ipython3",
   "version": "3.12.4"
  }
 },
 "nbformat": 4,
 "nbformat_minor": 2
}
